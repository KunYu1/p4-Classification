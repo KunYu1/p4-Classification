{
 "cells": [
  {
   "cell_type": "markdown",
   "id": "693cdd87-7789-4d5f-b0c1-34c27f142734",
   "metadata": {
    "tags": []
   },
   "source": [
    "# Import Related Package"
   ]
  },
  {
   "cell_type": "code",
   "execution_count": 1,
   "id": "57fb26fa-6130-4dad-96e5-068832d170f1",
   "metadata": {},
   "outputs": [
    {
     "name": "stdout",
     "output_type": "stream",
     "text": [
      "Devices [PhysicalDevice(name='/physical_device:CPU:0', device_type='CPU')]\n"
     ]
    }
   ],
   "source": [
    "# Config GPU Resource\n",
    "GPU_NUMBER = \"0\" #2\n",
    "\n",
    "import os\n",
    "os.environ['CUDA_VISIBLE_DEVICES']=f\"{GPU_NUMBER}\"\n",
    "\n",
    "import tensorflow as tf\n",
    "gpus = tf.config.experimental.list_physical_devices('GPU')\n",
    "tf.config.experimental.set_visible_devices(devices=gpus, device_type='GPU')\n",
    "if gpus:\n",
    "    try:\n",
    "        for gpu in gpus:\n",
    "            tf.config.experimental.set_memory_growth(gpu, True)\n",
    "    except RuntimeError as e:\n",
    "        print(e)\n",
    "\n",
    "# packages\n",
    "from tensorflow import keras\n",
    "import tensorflow.keras.layers \n",
    "import tensorflow.keras.backend\n",
    "from tensorflow.keras import utils as np_utils\n",
    "from tensorflow.python.client import *\n",
    "from tensorflow.keras import *\n",
    "from tensorflow.keras.models import *\n",
    "from tensorflow.keras.layers import *\n",
    "from sklearn.model_selection import *\n",
    "from sklearn.metrics import *\n",
    "from sklearn.preprocessing import *\n",
    "from sklearn.utils import *\n",
    "from imblearn.over_sampling import *\n",
    "from imblearn.under_sampling import *\n",
    "from collections import *\n",
    "\n",
    "\n",
    "import matplotlib.pyplot as plt\n",
    "import pandas as pd\n",
    "import numpy as np\n",
    "import struct\n",
    "import pathlib\n",
    "import os\n",
    "import glob\n",
    "import itertools\n",
    "import seaborn as sns\n",
    "import shutil\n",
    "import joblib\n",
    "\n",
    "\n",
    "import json\n",
    "\n",
    "print(\"Devices\", tf.config.list_physical_devices(device_type=None))"
   ]
  },
  {
   "cell_type": "markdown",
   "id": "c0fab100-841a-4dc0-9f6e-5f34b59b39be",
   "metadata": {
    "tags": []
   },
   "source": [
    "# Global Enviroment Variable"
   ]
  },
  {
   "cell_type": "code",
   "execution_count": 2,
   "id": "0c01d5b0-ae7a-4c60-aeee-021dcb726abb",
   "metadata": {},
   "outputs": [],
   "source": [
    "# -------------------- preprocess --------------------\n",
    "MODEL_DESCRIPTION = \"1_8_pkts_14_features_archive\"\n",
    "MODEL_NAME = \"sae\"\n",
    "SCRIPT_FILE_NAME = \"2_SAE.ipynb\" # You can't use libray directly to get ipynb name because it runs at jupyter.\n",
    "CACHE_DIR_NAME = \"sae_8_pkts_14_features_with_aug\" \n",
    "\n",
    "classesJsonPath = \"./classes.json\"\n",
    "\n",
    "MALWARE_TYPE = {}\n",
    "with open(classesJsonPath) as jsonFile:\n",
    "    MALWARE_TYPE = json.load(jsonFile)\n",
    "\n",
    "\n",
    "# ---------------- dependent/nonchange variables ------------------------\n",
    "NUMBER_OF_PKTS_PER_SESSION = CACHE_DIR_NAME.split(\"_\")[1]\n",
    "NUMBER_OF_FEATURES = CACHE_DIR_NAME.split(\"_\")[3]\n",
    "SAVE_DIRECTORY = f\"model/{MODEL_NAME}/{MODEL_DESCRIPTION}\"\n",
    "CACHE_DIR = f\"csv_with_aug/{CACHE_DIR_NAME}\"\n",
    "pathlib.Path(SAVE_DIRECTORY).mkdir(parents=True, exist_ok=True)\n",
    "CACHE_FILE_NAME = [\"x_train.csv\", \"x_test.csv\", \"y_train.csv\", \"y_test.csv\"]\n",
    "\n",
    "\n",
    "\n",
    "# -------------------- Training Model --------------------\n",
    "TRAINING_HISTORY_FILE_NAME = \"training_log.csv\"\n",
    "LOSS = keras.losses.mean_squared_error \n",
    "OPTIMIZER = keras.optimizers.Adam()\n",
    "EMBEDDING_LAYER_OUTPUT_SIZE = 16 # 64\n",
    "EPOCHS_SIZE = 30 # 25\n",
    "BATCH_SIZE = 32 # 32\n"
   ]
  },
  {
   "cell_type": "markdown",
   "id": "4a9cc494-7694-4b31-a3c0-b432b0baebfc",
   "metadata": {
    "tags": []
   },
   "source": [
    "# Read Cache file"
   ]
  },
  {
   "cell_type": "code",
   "execution_count": 3,
   "id": "5af370ff-fa20-4cbd-8415-c65867036ac2",
   "metadata": {},
   "outputs": [
    {
     "name": "stdout",
     "output_type": "stream",
     "text": [
      "---- check if the validation set is existed ----\n",
      "==== check if the validation set are existed end ====\n",
      "(262020, 14)\n",
      "(10109, 14)\n",
      "(262020, 1)\n",
      "(10109, 1)\n",
      "---- read end ----\n",
      "---- normalized data ----\n",
      "(262020, 14)\n",
      "(10109, 14)\n",
      "(262020, 22)\n",
      "(10109, 22)\n",
      "==== normalized end ====\n",
      "---- save mean & std variables ----\n",
      "==== save mean & std variables ====\n",
      "==== preprocess success ====\n"
     ]
    }
   ],
   "source": [
    "# -------------------------- check validation set is existed ------------------------------\n",
    "print(\"---- check if the validation set is existed ----\")\n",
    "hasValidationSet = False\n",
    "if not (os.path.isfile(f\"{CACHE_DIR}/{CACHE_FILE_NAME[2]}\") or os.path.isfile(f\"{CACHE_DIR}/{CACHE_FILE_NAME[5]}\")):\n",
    "    hasValidationSet = False\n",
    "    print(\"no validation set in this cache directory!!\")\n",
    "print(\"==== check if the validation set are existed end ====\")\n",
    "# ========================== check validation set is existed ==============================\n",
    "\n",
    "# -------------------------- Read Data ------------------------------\n",
    "xTrainRawData = pd.read_csv(f\"{CACHE_DIR}/{CACHE_FILE_NAME[0]}\").to_numpy()    \n",
    "xTestRawData = pd.read_csv(f\"{CACHE_DIR}/{CACHE_FILE_NAME[1]}\").to_numpy()    \n",
    "yTrainRawData = pd.read_csv(f\"{CACHE_DIR}/{CACHE_FILE_NAME[2]}\").replace(MALWARE_TYPE).to_numpy()    \n",
    "yTestRawData = pd.read_csv(f\"{CACHE_DIR}/{CACHE_FILE_NAME[3]}\").replace(MALWARE_TYPE).to_numpy()  \n",
    "     \n",
    "\n",
    "\n",
    "print(xTrainRawData.shape)\n",
    "print(xTestRawData.shape)\n",
    "\n",
    "print(yTrainRawData.shape)\n",
    "print(yTestRawData.shape)\n",
    "\n",
    "print(\"---- read end ----\")\n",
    "# ========================== Read Data =============================\n",
    "\n",
    "# -------------------------- Normalized Data ------------------------------\n",
    "print(\"---- normalized data ----\")\n",
    "yTrain = np_utils.to_categorical(yTrainRawData, len(MALWARE_TYPE))\n",
    "yTest = np_utils.to_categorical(yTestRawData, len(MALWARE_TYPE))\n",
    "\n",
    "# normalized\n",
    "scaler = StandardScaler()\n",
    "xTrain = scaler.fit_transform(xTrainRawData)\n",
    "xTest = scaler.transform(xTestRawData)\n",
    "\n",
    "\n",
    "print(xTrain.shape)\n",
    "print(xTest.shape)\n",
    "\n",
    "print(yTrain.shape)\n",
    "print(yTest.shape)\n",
    "\n",
    "print(\"==== normalized end ====\")\n",
    "# ========================== Normalized Data =============================\n",
    "\n",
    "print(\"---- save mean & std variables ----\")\n",
    "scalerMeanDF = pd.DataFrame(scaler.mean_)\n",
    "scalerStdDF = pd.DataFrame(scaler.scale_)\n",
    "scalerMeanDF.to_csv(f\"{SAVE_DIRECTORY}/standardscaler_mean.csv\", index=False, header=False)\n",
    "scalerStdDF.to_csv(f\"{SAVE_DIRECTORY}/standardscaler_std.csv\", index=False, header=False)\n",
    "joblib.dump(scaler, f\"{SAVE_DIRECTORY}/standard_scaler_param.bin\", compress=True)\n",
    "print(\"==== save mean & std variables ====\")\n",
    "\n",
    "print(\"==== preprocess success ====\")"
   ]
  },
  {
   "cell_type": "markdown",
   "id": "ca608b6f-8abe-4eac-8f3b-17886b3d0cfa",
   "metadata": {
    "tags": []
   },
   "source": [
    "# Sparse Auto-encoder (SAE)"
   ]
  },
  {
   "cell_type": "code",
   "execution_count": 4,
   "id": "472acaac-3f06-468a-a7ea-da0f8a1d049a",
   "metadata": {},
   "outputs": [
    {
     "name": "stdout",
     "output_type": "stream",
     "text": [
      "Model: \"model\"\n",
      "_________________________________________________________________\n",
      " Layer (type)                Output Shape              Param #   \n",
      "=================================================================\n",
      " sae_input (InputLayer)      [(None, 14)]              0         \n",
      "                                                                 \n",
      " sae_encoder_1 (Dense)       (None, 16)                240       \n",
      "                                                                 \n",
      " sae_embedding_layer (Leaky  (None, 16)                0         \n",
      " ReLU)                                                           \n",
      "                                                                 \n",
      " sae_decoder_1 (Dense)       (None, 14)                238       \n",
      "                                                                 \n",
      " sae_decoder_1_activation (  (None, 14)                0         \n",
      " LeakyReLU)                                                      \n",
      "                                                                 \n",
      "=================================================================\n",
      "Total params: 478 (1.87 KB)\n",
      "Trainable params: 478 (1.87 KB)\n",
      "Non-trainable params: 0 (0.00 Byte)\n",
      "_________________________________________________________________\n",
      "You must install pydot (`pip install pydot`) and install graphviz (see instructions at https://graphviz.gitlab.io/download/) for plot_model to work.\n"
     ]
    }
   ],
   "source": [
    "saeInput = keras.Input(shape=(xTrain.shape[1]), name=\"sae_input\")\n",
    "\n",
    "# encoder = Dense(64)(input_session)\n",
    "\n",
    "encoder = Dense(EMBEDDING_LAYER_OUTPUT_SIZE,\n",
    "                activity_regularizer=regularizers.l1(10e-5), name=\"sae_encoder_1\")(saeInput) # origin: sae_code_layer\n",
    "encoder = LeakyReLU(name='sae_embedding_layer')(encoder)\n",
    "\n",
    "# decoder = Dense(64)(encoder)\n",
    "\n",
    "decoder = Dense(xTrain.shape[1], name=\"sae_decoder_1\")(encoder)\n",
    "saeRestruction = LeakyReLU(name=\"sae_decoder_1_activation\")(decoder)\n",
    "\n",
    "sae = keras.Model(saeInput, saeRestruction)\n",
    "sae.compile(optimizer=OPTIMIZER, loss=LOSS)\n",
    "sae.summary()\n",
    "np_utils.plot_model(sae, to_file=f'{SAVE_DIRECTORY}/{MODEL_NAME}.png', show_shapes=True)"
   ]
  },
  {
   "cell_type": "markdown",
   "id": "67f81c9e-7bbe-48fd-a020-fd0e8a4fd3d2",
   "metadata": {},
   "source": [
    "## Training Stage"
   ]
  },
  {
   "cell_type": "code",
   "execution_count": 5,
   "id": "741adc0f-d975-47ea-bf90-0fe7cd8ae570",
   "metadata": {},
   "outputs": [
    {
     "name": "stdout",
     "output_type": "stream",
     "text": [
      "Epoch 1/30\n",
      "8189/8189 [==============================] - 5s 520us/step - loss: 0.0407\n",
      "Epoch 2/30\n",
      "8189/8189 [==============================] - 4s 516us/step - loss: 0.0018\n",
      "Epoch 3/30\n",
      "8189/8189 [==============================] - 4s 515us/step - loss: 0.0012\n",
      "Epoch 4/30\n",
      "8189/8189 [==============================] - 4s 515us/step - loss: 0.0010\n",
      "Epoch 5/30\n",
      "8189/8189 [==============================] - 5s 554us/step - loss: 7.8369e-04\n",
      "Epoch 6/30\n",
      "8189/8189 [==============================] - 5s 561us/step - loss: 6.3010e-04\n",
      "Epoch 7/30\n",
      "8189/8189 [==============================] - 5s 556us/step - loss: 5.5652e-04\n",
      "Epoch 8/30\n",
      "8189/8189 [==============================] - 5s 557us/step - loss: 5.1917e-04\n",
      "Epoch 9/30\n",
      "8189/8189 [==============================] - 5s 559us/step - loss: 4.7415e-04\n",
      "Epoch 10/30\n",
      "8189/8189 [==============================] - 4s 539us/step - loss: 4.4707e-04\n",
      "Epoch 11/30\n",
      "8189/8189 [==============================] - 5s 550us/step - loss: 4.2269e-04\n",
      "Epoch 12/30\n",
      "8189/8189 [==============================] - 4s 540us/step - loss: 4.1125e-04\n",
      "Epoch 13/30\n",
      "8189/8189 [==============================] - 4s 541us/step - loss: 3.9435e-04\n",
      "Epoch 14/30\n",
      "8189/8189 [==============================] - 4s 532us/step - loss: 3.8227e-04\n",
      "Epoch 15/30\n",
      "8189/8189 [==============================] - 5s 595us/step - loss: 3.8082e-04\n",
      "Epoch 16/30\n",
      "8189/8189 [==============================] - 4s 520us/step - loss: 3.6954e-04\n",
      "Epoch 17/30\n",
      "8189/8189 [==============================] - 4s 511us/step - loss: 3.5479e-04\n",
      "Epoch 18/30\n",
      "8189/8189 [==============================] - 4s 526us/step - loss: 3.5148e-04\n",
      "Epoch 19/30\n",
      "8189/8189 [==============================] - 4s 524us/step - loss: 3.5971e-04\n",
      "Epoch 20/30\n",
      "8189/8189 [==============================] - 5s 571us/step - loss: 3.5550e-04\n",
      "Epoch 21/30\n",
      "8189/8189 [==============================] - 4s 502us/step - loss: 3.3802e-04\n",
      "Epoch 22/30\n",
      "8189/8189 [==============================] - 4s 500us/step - loss: 3.3819e-04\n",
      "Epoch 23/30\n",
      "8189/8189 [==============================] - 4s 500us/step - loss: 3.2442e-04\n",
      "Epoch 24/30\n",
      "8189/8189 [==============================] - 4s 500us/step - loss: 3.3932e-04\n",
      "Epoch 25/30\n",
      "8189/8189 [==============================] - 4s 501us/step - loss: 3.2329e-04\n",
      "Epoch 26/30\n",
      "8189/8189 [==============================] - 4s 504us/step - loss: 3.2038e-04\n",
      "Epoch 27/30\n",
      "8189/8189 [==============================] - 4s 509us/step - loss: 3.1147e-04\n",
      "Epoch 28/30\n",
      "8189/8189 [==============================] - 4s 499us/step - loss: 3.1738e-04\n",
      "Epoch 29/30\n",
      "8189/8189 [==============================] - 4s 538us/step - loss: 3.1667e-04\n",
      "Epoch 30/30\n",
      "8189/8189 [==============================] - 4s 520us/step - loss: 3.1495e-04\n"
     ]
    },
    {
     "name": "stderr",
     "output_type": "stream",
     "text": [
      "c:\\Users\\CIA_Kenny\\AppData\\Local\\anaconda3\\envs\\tf_env\\lib\\site-packages\\keras\\src\\engine\\training.py:3000: UserWarning: You are saving your model as an HDF5 file via `model.save()`. This file format is considered legacy. We recommend using instead the native Keras format, e.g. `model.save('my_model.keras')`.\n",
      "  saving_api.save_model(\n"
     ]
    },
    {
     "data": {
      "text/plain": [
       "'model/sae/1_8_pkts_14_features_archive/2_SAE.ipynb'"
      ]
     },
     "execution_count": 5,
     "metadata": {},
     "output_type": "execute_result"
    }
   ],
   "source": [
    "historyLogger = tf.keras.callbacks.CSVLogger(f\"{SAVE_DIRECTORY}/{TRAINING_HISTORY_FILE_NAME}\", separator=\",\")\n",
    "\n",
    "# https://medium.com/ai%E5%8F%8D%E6%96%97%E5%9F%8E/keras-%E7%82%BA%E4%BD%95-val-acc%E6%B0%B8%E9%81%A0-0-0000e-00-2879e20f1fca\n",
    "# https://github.com/tensorflow/tensorflow/issues/39370\n",
    "\n",
    "history = sae.fit(xTrain, xTrain,\n",
    "                    batch_size=BATCH_SIZE,\n",
    "                    epochs=EPOCHS_SIZE,\n",
    "                    callbacks=[historyLogger],  \n",
    "                    verbose=1)\n",
    "    \n",
    "sae.save(f\"{SAVE_DIRECTORY}/{MODEL_NAME}.h5\")\n",
    "shutil.copy(os.getcwd() + \"/\" + SCRIPT_FILE_NAME , f\"{SAVE_DIRECTORY}/{SCRIPT_FILE_NAME}\") # copy source code"
   ]
  },
  {
   "cell_type": "markdown",
   "id": "257de81d-d57f-48ad-bcf8-4f6a6aadce37",
   "metadata": {
    "tags": []
   },
   "source": [
    "# Estminate Performance"
   ]
  },
  {
   "cell_type": "code",
   "execution_count": 6,
   "id": "065fa30a-9acf-48b6-8ea6-a5c122094dd2",
   "metadata": {},
   "outputs": [],
   "source": [
    "def plot_training_history(csvPath, savedDirPath, hasValidationSet):\n",
    "    history = pd.read_csv(csvPath, sep=',', engine='python')\n",
    "    plt.plot(history['loss'], label=\"loss\")\n",
    "    if hasValidationSet:\n",
    "        plt.plot(history['val_loss'], label=\"val_loss\")\n",
    "    plt.title('model loss')\n",
    "    plt.ylabel('loss')\n",
    "    plt.xlabel('epoch')\n",
    "    plt.legend()\n",
    "    plt.savefig(f\"{savedDirPath}/train_loss.png\")\n",
    "    plt.show()"
   ]
  },
  {
   "cell_type": "code",
   "execution_count": 7,
   "id": "9d93f65a-1c5b-4e62-8c16-b61aa805e397",
   "metadata": {},
   "outputs": [
    {
     "data": {
      "image/png": "[encoded data removed]",
      "text/plain": [
       "<Figure size 640x480 with 1 Axes>"
      ]
     },
     "metadata": {},
     "output_type": "display_data"
    }
   ],
   "source": [
    "plot_training_history(f\"{SAVE_DIRECTORY}/{TRAINING_HISTORY_FILE_NAME}\", f\"{SAVE_DIRECTORY}\", hasValidationSet)"
   ]
  }
 ],
 "metadata": {
  "kernelspec": {
   "display_name": "tf_env",
   "language": "python",
   "name": "python3"
  },
  "language_info": {
   "codemirror_mode": {
    "name": "ipython",
    "version": 3
   },
   "file_extension": ".py",
   "mimetype": "text/x-python",
   "name": "python",
   "nbconvert_exporter": "python",
   "pygments_lexer": "ipython3",
   "version": "3.8.20"
  }
 },
 "nbformat": 4,
 "nbformat_minor": 5
}
